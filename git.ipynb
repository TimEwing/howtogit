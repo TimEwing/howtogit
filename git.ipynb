{
 "cells": [
  {
   "cell_type": "markdown",
   "metadata": {},
   "source": [
    "## Before we get started\n",
    "Git doesn't handle jupyter notebooks well by default. We need `nbdime`.\n",
    "\n",
    "`pip install nbdime`\n",
    "\n",
    "`nbdime config-git --enable --global`"
   ]
  },
  {
   "cell_type": "markdown",
   "metadata": {},
   "source": [
    "## Part 1: `git` for One\n",
    "### make a git repo\n",
    "Do this through github\n",
    "### clone\n",
    "Copy the remote repo to your computer\n",
    "\n",
    "`git clone [url]` with url from github page\n",
    "### status\n",
    "Ask git what is happening\n",
    "\n",
    "`git status`\n",
    "### pull\n",
    "Pull any changes from the remote repo to your computer (not necessary when you first make a repo)\n",
    "\n",
    "`git pull` \n",
    "### edit\n",
    "just change files normally and save them\n",
    "\n",
    "jupyter saves automatically, but asks if it needs to overwrite changes\n",
    "### add\n",
    "Tell git which files you're going to commit\n",
    "\n",
    "`git add path/to/file`\n",
    "\n",
    "Alternatively: `git add .` to add eveything, but this sometimes adds files you don't want. If you want to use this method, go to https://www.gitignore.io/, add the tools you use, save it to a file called .gitignore in your repo dir, and add/commit the gitignore to your project like a normal file.\n",
    "### commit\n",
    "Save files to git\n",
    "\n",
    "`git commit -m \"Useful commit message here\"`\n",
    "### push\n",
    "Put changes on the remote server\n",
    "\n",
    "`git push`"
   ]
  },
  {
   "cell_type": "markdown",
   "metadata": {},
   "source": [
    "## Part 2: `git` With Friends\n",
    "### pull\n",
    "`git pull` the same as for singleplayer git\n",
    "\n",
    "__Do this first to avoid headaches__\n",
    "### branch\n",
    "`git branch branch_name`\n",
    "\n",
    "`git checkout branch_name`\n",
    "### edit\n",
    "save files normally as before\n",
    "\n",
    "`git stash`, `git checkout [branch name]`, `git stash pop` when you forget to switch branches\n",
    "### commit\n",
    "same as single player: `git commit -m \"Useful commit message here\"`\n",
    "### merge\n",
    "Take any changes on master and merge them into our repo.\n",
    "\n",
    "`git merge master`\n",
    "### push\n",
    "Push changes on our branch up to remote\n",
    "\n",
    "`git push origin branch_name` (origin is the name of the remote repo by default)\n",
    "### pull request <i>(no relation to pull)</i>\n",
    "Merge our changes into master in an officialish manner.\n",
    "\n",
    "Usually, your peers should be added as reviewers on the pull request and should look at your changes (and ideally test them) before they get merged into master."
   ]
  }
 ],
 "metadata": {
  "kernelspec": {
   "display_name": "Python 3",
   "language": "python",
   "name": "python3"
  },
  "language_info": {
   "codemirror_mode": {
    "name": "ipython",
    "version": 3
   },
   "file_extension": ".py",
   "mimetype": "text/x-python",
   "name": "python",
   "nbconvert_exporter": "python",
   "pygments_lexer": "ipython3",
   "version": "3.7.1"
  }
 },
 "nbformat": 4,
 "nbformat_minor": 2
}
