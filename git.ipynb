{
 "cells": [
  {
   "cell_type": "markdown",
   "metadata": {},
   "source": [
    "### Single Person\n",
    "1. make a git repo\n",
    "    - Do this through github\n",
    "2. clone repo\n",
    "    - `git clone [url]` with url from github page\n",
    "3. status\n",
    "    - `git status` tells you what is going on\n",
    "4. edit\n",
    "    - just change files normally and save them\n",
    "5. add\n",
    "    - `git add [filename]`\n",
    "6. commit\n",
    "    - `git commit -m \"Useful commit message here\"\n",
    "7. push\n",
    "    - `git push`\n",
    "\n",
    "### More than just you\n",
    "1. pull\n",
    "2. branch\n",
    "  - stash because you forgot to switch branches\n",
    "3. edit, commit\n",
    "4. merge\n",
    "5. push\n",
    "6. pull request <i>(no relation to pull)</i>\n"
   ]
  },
  {
   "cell_type": "markdown",
   "metadata": {},
   "source": []
  }
 ],
 "metadata": {
  "kernelspec": {
   "display_name": "Python 3",
   "language": "python",
   "name": "python3"
  },
  "language_info": {
   "codemirror_mode": {
    "name": "ipython",
    "version": 3
   },
   "file_extension": ".py",
   "mimetype": "text/x-python",
   "name": "python",
   "nbconvert_exporter": "python",
   "pygments_lexer": "ipython3",
   "version": "3.7.1"
  }
 },
 "nbformat": 4,
 "nbformat_minor": 2
}
