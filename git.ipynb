{
 "cells": [
  {
   "cell_type": "markdown",
   "metadata": {},
   "source": [
    "## Part 1: Lonely `git`\n",
    "#### make a git repo\n",
    "Do this through github\n",
    "#### clone\n",
    "Copy the remote repo to your computer\n",
    "\n",
    "`git clone [url]` with url from github page\n",
    "#### status\n",
    "Ask git what is happening\n",
    "\n",
    "`git status`\n",
    "#### pull\n",
    "Pull any changes from the remote repo to your computer (not necessary when you first make a repo)\n",
    "\n",
    "`git pull` \n",
    "#### edit\n",
    "just change files normally and save them\n",
    "\n",
    "jupyter saves automatically, but asks if it needs to overwrite changes\n",
    "#### add\n",
    "Tell git which files you're going to commit\n",
    "\n",
    "`git add path/to/file`\n",
    "\n",
    "Alternatively: `git add .` to add eveything, but this sometimes adds files you don't want. If you want to use this method, go to https://www.gitignore.io/, add the tools you use, save it to a file called .gitignore in your repo dir, and add/commit the gitignore to your project like a normal file.\n",
    "#### commit\n",
    "Save files to git\n",
    "\n",
    "`git commit -m \"Useful commit message here\"`\n",
    "#### push\n",
    "Put stuff up on the remote server\n",
    "\n",
    "`git push`"
   ]
  },
  {
   "cell_type": "markdown",
   "metadata": {},
   "source": [
    "## Part 2: `git` With Friends\n",
    "#### pull\n",
    "    `git pull` the same as for singleplayer git\n",
    "    __Do this first to avoid headaches__\n",
    "#### branch\n",
    "    `git branch branch_name`\n",
    "    `git checkout branch_name`\n",
    "#### edit\n",
    "    save files normally as before\n",
    "    `git stash`, `git checkout [branch name]`, `git stash pop` when you forget to switch branches\n",
    "#### commit\n",
    "    same as single player: `git commit -m \"Useful commit message here\"`\n",
    "#### merge\n",
    "\n",
    "#### push\n",
    "#### pull request <i>(no relation to pull)</i>"
   ]
  },
  {
   "cell_type": "code",
   "execution_count": null,
   "metadata": {},
   "outputs": [],
   "source": []
  },
  {
   "cell_type": "markdown",
   "metadata": {},
   "source": [
    "Here is a change someone else made!"
   ]
  }
 ],
 "metadata": {
  "kernelspec": {
   "display_name": "Python 3",
   "language": "python",
   "name": "python3"
  },
  "language_info": {
   "codemirror_mode": {
    "name": "ipython",
    "version": 3
   },
   "file_extension": ".py",
   "mimetype": "text/x-python",
   "name": "python",
   "nbconvert_exporter": "python",
   "pygments_lexer": "ipython3",
   "version": "3.7.1"
  }
 },
 "nbformat": 4,
 "nbformat_minor": 2
}
